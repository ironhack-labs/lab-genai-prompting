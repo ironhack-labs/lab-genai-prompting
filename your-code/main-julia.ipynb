{
 "cells": [
  {
   "cell_type": "markdown",
   "metadata": {
    "vscode": {
     "languageId": "plaintext"
    }
   },
   "source": [
    "# LAB | GenAI: Exploring Prompting Techniques for Customer Support Automation"
   ]
  },
  {
   "cell_type": "markdown",
   "metadata": {},
   "source": [
    "## Tasks\n",
    "\n",
    "**Objective:**\n",
    "\n",
    "Learn and apply different prompting techniques to improve the performance of a language model in generating customer support responses.\n",
    "\n",
    "**Business Case:**\n",
    "\n",
    "Imagine you are working for a company that provides a variety of services, including technical support, billing inquiries, and general customer service. Your task is to use a language model to automate responses to customer emails.\n",
    "\n",
    "**Dataset:**\n",
    "\n",
    "Download the FAQ of a company to do this exercise. Below you have a couple of examples, but feel free to find your own:\n",
    " - https://info.undp.org/erecruit/documents/FAQ.pdf\n",
    " - https://www.cambridgeenglish.org/Images/696254-faqs-digital-cambridge-english-qualifications.pdf\n",
    " - https://www.wscc.nt.ca/sites/default/files/documents/0009-518-Item-04-INDESIGN-FAQ-Template%203%20-%20MINUS%20FIRST%20QUESTION.pdf\n",
    "\n",
    "\n",
    "### Task 1\n",
    "\n",
    "Download and Read the PDF:\n",
    "\n",
    "  - Choose one of the provided FAQ PDFs or find your own relevant FAQ document.\n",
    "  - Read through the FAQ document carefully to understand the types of questions and answers it contains.\n",
    "  - Create Questions Based on the PDF ( you can use ChatGPT for this)\n",
    "    - Generate a list of potential customer questions that could be answered using the information from the FAQ PDF.\n",
    "    - Ensure your questions cover a variety of topics and difficulty levels found within the document.\n",
    "    - Generate Responses Using Different Prompting Techniques:\n",
    "\n",
    "Use a language model (such as ChatGPT) to generate responses to your questions.\n",
    "Experiment with different prompting techniques to see how they affect the quality of the responses."
   ]
  },
  {
   "cell_type": "markdown",
   "metadata": {},
   "source": [
    "## Types of prompting\n",
    "\n",
    "For each of the types prompting, perform the following:\n",
    " - Research what the type of prompting is\n",
    " - Create a small explaination of the prompting\n",
    " - Test your type of prompting vs the control prompt (direct question)"
   ]
  },
  {
   "cell_type": "markdown",
   "metadata": {
    "vscode": {
     "languageId": "plaintext"
    }
   },
   "source": [
    "### Zero-Shot Prompting\n",
    "\n",
    "Use the knowledge base to create prompts without examples.\n",
    "Test the model's ability to generate accurate responses based solely on the provided instructions.\n",
    "Assess the performance compared to few-shot prompting."
   ]
  },
  {
   "cell_type": "code",
   "execution_count": null,
   "metadata": {},
   "outputs": [],
   "source": [
    "# Using the company’s FAQ document, answer the following question: What should I do if I lose my Cambridge English certificate?"
   ]
  },
  {
   "cell_type": "markdown",
   "metadata": {
    "vscode": {
     "languageId": "plaintext"
    }
   },
   "source": [
    "### Few-Shot Prompting\n",
    "\n",
    "Select a few representative emails from each category.\n",
    "Create prompts by including these examples and ask the model to generate responses for new emails.\n",
    "Evaluate the quality and relevance of the responses."
   ]
  },
  {
   "cell_type": "code",
   "execution_count": null,
   "metadata": {},
   "outputs": [],
   "source": [
    "# How can I find a nearby test center for the Cambridge English exams?"
   ]
  },
  {
   "cell_type": "markdown",
   "metadata": {},
   "source": [
    "### Chain of Thought Prompting\n",
    "\n",
    "Develop prompts that guide the model to think through the problem step-by-step before providing the final answer.\n",
    "Analyze if this approach improves the quality of technical support responses.\n"
   ]
  },
  {
   "cell_type": "code",
   "execution_count": null,
   "metadata": {},
   "outputs": [],
   "source": [
    "\"\"\"\n",
    "To help the customer with a missing driver error, we should follow these steps:\n",
    "Step 1: Identify which driver is required for the installation. Ask the customer for details about the error message, such as the specific driver name or code mentioned in the error.\n",
    "Step 2: Confirm that the customer’s computer meets the system requirements. Ensure that the operating system version and hardware specifications are compatible with the software.\n",
    "Step 3: Provide instructions on where to download the missing driver. Direct the customer to the official website or provide a reliable download link.\n",
    "Step 4: Guide the customer through installing the driver. Ask the customer to follow the download and installation instructions carefully.\n",
    "Step 5: Advise the customer to restart their computer and try installing the software again.\n",
    "Let’s answer this email using these steps.\n",
    "\"\"\""
   ]
  },
  {
   "cell_type": "markdown",
   "metadata": {},
   "source": [
    "### Instruction-Based Prompting\n",
    "\n",
    "Write clear and explicit instructions in the prompts for each type of customer inquiry.\n",
    "Measure the effectiveness of detailed instructions in guiding the model."
   ]
  },
  {
   "cell_type": "code",
   "execution_count": null,
   "metadata": {},
   "outputs": [],
   "source": [
    "\"\"\"\n",
    "When responding to a customer asking for technical support with software installation, follow these instructions:\n",
    "\t•\tStep 1: Acknowledge the customer's problem and express a willingness to help.\n",
    "\t•\tStep 2: Ask for specific details about the error message to identify the issue accurately.\n",
    "\t•\tStep 3: If the error is related to missing system requirements, guide the customer to check and confirm their system specifications.\n",
    "\t•\tStep 4: If the error is related to a missing driver or dependency, provide a reliable link or location to download the required driver or software.\n",
    "\t•\tStep 5: Offer additional support if the issue persists, and provide contact details for further assistance.\n",
    "Now, respond to the following customer email:\n",
    "Customer: I'm trying to install the software, but I keep getting an error message. Can you help?\n",
    "\"\"\""
   ]
  },
  {
   "cell_type": "markdown",
   "metadata": {},
   "source": [
    "### Role-Playing Prompting\n",
    "\n",
    "Ask the model to respond as a customer service representative or technical support expert.\n",
    "Evaluate how well the model adopts the role and provides relevant information."
   ]
  },
  {
   "cell_type": "code",
   "execution_count": null,
   "metadata": {},
   "outputs": [],
   "source": [
    "\"\"\"\n",
    "You are a technical support expert responsible for helping customers resolve software installation issues. Your job is to provide detailed instructions and relevant troubleshooting steps in a professional manner.\n",
    "Respond to the following email as a technical support expert:\n",
    "Customer: I'm trying to install the software, but I keep getting an error that says “Unable to find the required file”. Can you help?'\n",
    "\"\"\""
   ]
  },
  {
   "cell_type": "markdown",
   "metadata": {},
   "source": [
    "### Contextual Prompting\n",
    "\n",
    "Provide relevant context from previous email threads or the knowledge base before posing the main question.\n",
    "Test if providing context improves the accuracy and relevance of the responses."
   ]
  },
  {
   "cell_type": "code",
   "execution_count": null,
   "metadata": {},
   "outputs": [],
   "source": [
    "\"\"\"\n",
    "You are a customer service representative for a subscription-based service.\n",
    "Here is the context of the previous conversation:\n",
    "The customer was billed $50 on their latest invoice, while their subscription plan is only $30 per month. An additional fee was applied due to a late payment in the previous month, which is being reviewed by the billing team.\n",
    "Now, the customer has sent a follow-up email asking for an update.\n",
    "Customer: 'Hi, I'm following up to see if there's any update regarding the extra $20 charge on my invoice.'\n",
    "Respond to the customer with this context in mind.\n",
    "\"\"\"\n"
   ]
  },
  {
   "cell_type": "markdown",
   "metadata": {},
   "source": [
    "### Conversational Prompting\n",
    "\n",
    "Create a dialogue-style prompt where the model continues an ongoing conversation with the customer.\n",
    "Observe how well the model maintains context and coherence in multi-turn conversations."
   ]
  },
  {
   "cell_type": "code",
   "execution_count": null,
   "metadata": {},
   "outputs": [],
   "source": [
    "\"\"\"\n",
    "You are continuing a conversation with a customer who is facing an issue with activating their software using a license key.\n",
    "Here is the conversation so far:\n",
    "Customer: 'Hi, I tried to activate the software using the license key you sent, but it's not working. It says “Invalid Key”. What should I do?'\n",
    "Your Response: 'Hello, I'm sorry to hear that you're having trouble with the activation. Could you please double-check the key for any typos or missing characters? If everything looks correct, I can help you with additional troubleshooting steps.’\n",
    "Customer: 'I've already double-checked it, and the key seems to be correct. What else can I try?'\n",
    "Now, continue the conversation and provide additional troubleshooting steps to the customer.\n",
    "\"\"\""
   ]
  },
  {
   "cell_type": "markdown",
   "metadata": {},
   "source": [
    "### Contrastive Prompting\n",
    "\n",
    "Show the model examples of both good and bad responses.\n",
    "Use these contrasting examples to guide the model towards generating better responses.\n",
    "Compare the results with other techniques."
   ]
  },
  {
   "cell_type": "code",
   "execution_count": null,
   "metadata": {},
   "outputs": [],
   "source": [
    "\"\"\"\n",
    "You are a customer service representative responsible for handling refund requests. When responding to a customer, aim to be empathetic, provide clear information, and offer a solution.\n",
    "Here is an example of a bad response:\n",
    "Bad Response: 'We cannot process your refund. Please check our policy.'\n",
    "This response is not helpful because it is dismissive and does not provide the customer with the information they need.\n",
    "Here is an example of a good response:\n",
    "Good Response: 'I'm sorry to hear that you were charged for a service you didn't use. I'll be happy to look into this for you. According to our refund policy, you are eligible for a refund if the service was not utilized within the last 30 days. I’ve initiated the refund process for you, and you should see the amount reflected in your account within 5-7 business days. If you have any other questions, please feel free to reach out.’\n",
    "This response is effective because it acknowledges the issue, provides clear information, and offers a solution to the customer's problem.\n",
    "Now, respond to the following customer email using a similar approach as the good response:\n",
    "Customer: 'I was charged for a service that I didn't use last month. Can I get a refund?'\n",
    "\"\"\""
   ]
  },
  {
   "cell_type": "markdown",
   "metadata": {},
   "source": [
    "### Specificity Prompting\n",
    "\n",
    "Ask the model to respond with a specific style, tone, or level of detail, such as formal, friendly, or concise.\n",
    "Assess how well the model adapts its responses to the specified requirements."
   ]
  },
  {
   "cell_type": "code",
   "execution_count": null,
   "metadata": {},
   "outputs": [],
   "source": [
    "\"\"\"\n",
    "You are a customer service representative responding to a customer inquiry about an unexpected fee. Please respond in a formal and professional tone.\n",
    "Customer: 'I noticed an unexpected $15 fee on my bill this month. Can you explain what it's for?'\n",
    "\"\"\""
   ]
  },
  {
   "cell_type": "markdown",
   "metadata": {},
   "source": [
    "### Iterative Refinement Prompting\n",
    "\n",
    "Ask the model to refine or improve upon its previous response.\n",
    "Experiment with multiple iterations to see if responses improve over time."
   ]
  },
  {
   "cell_type": "markdown",
   "metadata": {},
   "source": [
    "\t1.\tInitial Prompt:\n",
    "“Respond to the following customer email as a technical support representative:\n",
    "Customer: ‘I tried to reset my password, but I didn’t receive the reset link. Can you help?’”\n",
    "Initial Model Response:\n",
    "“Hello,\n",
    "I’m sorry to hear that you didn’t receive the password reset link. Please check your spam or junk folder to see if the email was mistakenly filtered there. If you still don’t find it, let me know, and I’ll help you further.”\n",
    "\n",
    "Refinement Prompts:\n",
    "\n",
    "\t2.\tRefinement Prompt 1:\n",
    "“Now, review your response and refine it to include additional troubleshooting steps and a more reassuring tone.”\n",
    "Refined Response 1: “Hello,\n",
    "I’m sorry to hear that you didn’t receive the password reset link. Let’s try a few things to get this resolved:\n",
    "\t1.\tCheck your spam or junk folder: Sometimes these emails are mistakenly filtered.\n",
    "\t2.\tVerify the email address: Make sure you’re using the correct email address associated with your account.\n",
    "\t3.\tWait a few minutes: Occasionally, it may take a little time for the email to arrive.\n",
    "If you still don’t receive the reset link, please let me know, and I’ll be happy to help you further. We’ll make sure you regain access to your account as soon as possible.”\n",
    "\n",
    "\n",
    "\t3.\tRefinement Prompt 2:\n",
    "“Now, refine your response again to make it more concise while still providing all key troubleshooting steps.”\n",
    "Refined Response 2:\n",
    "“Hello,\n",
    "I’m sorry you’re having trouble with the password reset. Let’s try the following steps:\n",
    "\t1.\tCheck your spam or junk folder.\n",
    "\t2.\tEnsure you’re using the correct email address linked to your account.\n",
    "\t3.\tWait a few minutes for the email to arrive.\n",
    "If you still don’t see the reset link, let me know, and I’ll help you further to regain access to your account.”\n",
    "\n"
   ]
  }
 ],
 "metadata": {
  "kernelspec": {
   "display_name": "venv_IH",
   "language": "python",
   "name": "python3"
  },
  "language_info": {
   "name": "python",
   "version": "3.11.10"
  }
 },
 "nbformat": 4,
 "nbformat_minor": 2
}
