{
 "cells": [
  {
   "cell_type": "markdown",
   "metadata": {
    "vscode": {
     "languageId": "plaintext"
    }
   },
   "source": [
    "# LAB | GenAI: Exploring Prompting Techniques for Customer Support Automation"
   ]
  },
  {
   "cell_type": "markdown",
   "metadata": {},
   "source": [
    "## Tasks\n",
    "\n",
    "**Objective:**\n",
    "\n",
    "Learn and apply different prompting techniques to improve the performance of a language model in generating customer support responses.\n",
    "\n",
    "**Business Case:**\n",
    "\n",
    "Imagine you are working for a company that provides a variety of services, including technical support, billing inquiries, and general customer service. Your task is to use a language model to automate responses to customer emails.\n",
    "\n",
    "**Dataset:**\n",
    "\n",
    "Download the FAQ of a company to do this exercise. Below you have a couple of examples, but feel free to find your own:\n",
    " - https://info.undp.org/erecruit/documents/FAQ.pdf\n",
    " - https://www.cambridgeenglish.org/Images/696254-faqs-digital-cambridge-english-qualifications.pdf\n",
    " - https://www.wscc.nt.ca/sites/default/files/documents/0009-518-Item-04-INDESIGN-FAQ-Template%203%20-%20MINUS%20FIRST%20QUESTION.pdf\n",
    "\n",
    "\n",
    "### Task 1\n",
    "\n",
    "Download and Read the PDF:\n",
    "\n",
    "  - Choose one of the provided FAQ PDFs or find your own relevant FAQ document.\n",
    "  - Read through the FAQ document carefully to understand the types of questions and answers it contains.\n",
    "  - Create Questions Based on the PDF ( you can use ChatGPT for this)\n",
    "    - Generate a list of potential customer questions that could be answered using the information from the FAQ PDF.\n",
    "    - Ensure your questions cover a variety of topics and difficulty levels found within the document.\n",
    "    - Generate Responses Using Different Prompting Techniques:\n",
    "\n",
    "Use a language model (such as ChatGPT) to generate responses to your questions.\n",
    "Experiment with different prompting techniques to see how they affect the quality of the responses."
   ]
  },
  {
   "cell_type": "code",
   "execution_count": 7,
   "metadata": {},
   "outputs": [],
   "source": [
    "questions = [\n",
    "    'What are the benefits of choosing a digital exam over a paper-based exam?',\n",
    "    'Can I adjust the contrast and font size during the exam?',\n",
    "    'Is it possible to view both the text and questions at the same time during the Reading section?',\n",
    "    'Can I edit my answers during the Writing test, such as copying, pasting, or deleting text?',\n",
    "    'Can I adjust the volume of the audio during the Listening test?',\n",
    "    'How is the Speaking test conducted in the digital format?',\n",
    "    'Will there be one or two examiners present during the Speaking test?',\n",
    "    'Will I have time to review my answers before submitting the Listening test?',\n",
    "    'Can I bring my own paper for taking notes, or will it be provided?',\n",
    "    'What happens if I experience technical issues on the day of the exam?'\n",
    "]"
   ]
  },
  {
   "cell_type": "code",
   "execution_count": 22,
   "metadata": {},
   "outputs": [],
   "source": [
    "from openai import OpenAI\n",
    "from IPython.display import Markdown, display\n",
    "\n",
    "# Set up the API key and model\n",
    "openai_api_key = input('Enter your API key: ')\n",
    "\n",
    "client = OpenAI(api_key=openai_api_key)\n",
    "\n",
    "model_gpt = \"gpt-4o-mini\"\n",
    "\n",
    "def answer_questions(prompt):\n",
    "    # Make the API call to generate a response\n",
    "    completion = client.chat.completions.create(\n",
    "        model = model_gpt,\n",
    "        messages=[\n",
    "            {\n",
    "                \"role\": \"system\", \n",
    "                \"content\": \"You are an assistant helping potential customer questions about the Cambridge English digital exams.\"\n",
    "            },\n",
    "            {\n",
    "                \"role\": \"user\",\n",
    "                \"content\": prompt\n",
    "            }\n",
    "        ],  \n",
    "        temperature=1,\n",
    "        max_tokens=150,\n",
    "        frequency_penalty=0,\n",
    "        presence_penalty=1,    \n",
    "    )\n",
    "\n",
    "    # Return the assistant's response\n",
    "    return completion.choices[0].message.content"
   ]
  },
  {
   "cell_type": "markdown",
   "metadata": {},
   "source": [
    "## Types of prompting\n",
    "\n",
    "For each of the types prompting, perform the following:\n",
    " - Research what the type of prompting is\n",
    " - Create a small explaination of the prompting\n",
    " - Test your type of prompting vs the control prompt (direct question)"
   ]
  },
  {
   "cell_type": "markdown",
   "metadata": {
    "vscode": {
     "languageId": "plaintext"
    }
   },
   "source": [
    "### Zero-Shot Prompting\n",
    "\n",
    "Use the knowledge base to create prompts without examples.\n",
    "Test the model's ability to generate accurate responses based solely on the provided instructions.\n",
    "Assess the performance compared to few-shot prompting."
   ]
  },
  {
   "cell_type": "code",
   "execution_count": 19,
   "metadata": {},
   "outputs": [
    {
     "data": {
      "text/markdown": [
       "Choosing a digital exam over a paper-based exam offers several benefits:\n",
       "\n",
       "1. **Immediate Results**: Digital exams can often provide instant feedback and results, allowing test-takers to know their scores more quickly compared to the longer waiting times associated with paper-based exams.\n",
       "\n",
       "2. **Faster and More Efficient Assessment**: Digital exams can streamline the assessment process. Automated scoring for certain sections can reduce the time needed to evaluate exams.\n",
       "\n",
       "3. **Convenience**: Digital exams can be taken in various locations, often with the option of remote proctoring. This can offer greater flexibility in terms of scheduling and location.\n",
       "\n",
       "4. **Enhanced Security**: Digital exams can incorporate various security features to prevent cheating and ensure the integrity of the exam. Features can"
      ],
      "text/plain": [
       "<IPython.core.display.Markdown object>"
      ]
     },
     "metadata": {},
     "output_type": "display_data"
    }
   ],
   "source": [
    "user_input = input(\"Ask me about the Cambridge English digital exams: \")\n",
    "prompt_zero = f\"\"\"\n",
    "#User Request: {user_input}\n",
    "\"\"\"\n",
    "\n",
    "zero_shot = answer_questions(prompt_zero)\n",
    "display(Markdown(zero_shot))"
   ]
  },
  {
   "cell_type": "markdown",
   "metadata": {
    "vscode": {
     "languageId": "plaintext"
    }
   },
   "source": [
    "### Few-Shot Prompting\n",
    "\n",
    "Select a few representative emails from each category.\n",
    "Create prompts by including these examples and ask the model to generate responses for new emails.\n",
    "Evaluate the quality and relevance of the responses."
   ]
  },
  {
   "cell_type": "code",
   "execution_count": 20,
   "metadata": {},
   "outputs": [
    {
     "data": {
      "text/markdown": [
       "Yes, you can adjust both the contrast and font size during the exam using the settings available within the exam interface. This will help you ensure that the text is easy to read and comfortable for you during the test."
      ],
      "text/plain": [
       "<IPython.core.display.Markdown object>"
      ]
     },
     "metadata": {},
     "output_type": "display_data"
    }
   ],
   "source": [
    "# Input a new question\n",
    "user_input = input(\"Ask me about the Cambridge English digital exams: \")\n",
    "\n",
    "# Few-Shot Prompt with Examples\n",
    "prompt_few_shot = f\"\"\"\n",
    "#Role\n",
    "You are a helpful assistant for users asking about the Cambridge English digital exams.\n",
    "\n",
    "#Example Questions and Answers\n",
    "Q: \"What should I do if my computer freezes during the exam?\"\n",
    "A: \"If your computer freezes, please notify the exam supervisor immediately. They will assist you in resolving the issue and ensure you can continue the exam without penalties.\"\n",
    "\n",
    "Q: \"Can I bring my own paper for taking notes during the exam?\"\n",
    "A: \"No, personal paper is not allowed in the digital exam. However, you will have access to on-screen tools to make notes directly within the exam interface.\"\n",
    "\n",
    "Q: \"Can I adjust the text size and contrast during the test?\"\n",
    "A: \"Yes, you can adjust the text size and contrast using the settings within the exam interface to ensure optimal readability.\"\n",
    "\n",
    "#User Request\n",
    "User Request: {user_input}\n",
    "\"\"\"\n",
    "\n",
    "# Generate response\n",
    "few_shot_response = answer_questions(prompt_few_shot)\n",
    "display(Markdown(few_shot_response))"
   ]
  },
  {
   "cell_type": "markdown",
   "metadata": {},
   "source": [
    "### Chain of Thought Prompting\n",
    "\n",
    "Develop prompts that guide the model to think through the problem step-by-step before providing the final answer.\n",
    "Analyze if this approach improves the quality of technical support responses.\n"
   ]
  },
  {
   "cell_type": "code",
   "execution_count": 23,
   "metadata": {},
   "outputs": [
    {
     "data": {
      "text/markdown": [
       "If you experience technical issues on the day of your Cambridge English digital exam, here’s what you should do step by step:\n",
       "\n",
       "**Step 1:** If you notice any technical issues, such as problems with your device or internet connection, stay calm. Assess the situation; for example, if the exam software crashes, try to restart your device and relaunch the exam.\n",
       "\n",
       "**Step 2:** As soon as you realize that the issue is persistent, inform the exam supervisor right away. You can raise your hand or use any communication method provided to get their attention. It is crucial to notify them promptly so they can assist you effectively.\n",
       "\n",
       "**Step 3:** Follow any instructions given by the exam supervisor carefully. They may ask you to attempt a specific"
      ],
      "text/plain": [
       "<IPython.core.display.Markdown object>"
      ]
     },
     "metadata": {},
     "output_type": "display_data"
    }
   ],
   "source": [
    "# Input a new question\n",
    "user_input = input(\"Ask me about the Cambridge English digital exams: \")\n",
    "\n",
    "# Chain of Thought Prompt\n",
    "prompt_chain_of_thought = f\"\"\"\n",
    "#Role\n",
    "You are a technical support assistant specializing in Cambridge English digital exams.\n",
    "\n",
    "#Guide\n",
    "Think through each step needed to address the user’s question carefully, and explain each step as part of your response.\n",
    "\n",
    "#User Request\n",
    "User Request: {user_input}\n",
    "\n",
    "#Example Step-by-Step Answer\n",
    "Step 1: If you notice your internet connection becoming unstable, remain calm and continue working on the exam if possible.\n",
    "\n",
    "Step 2: Notify the exam supervisor about the unstable connection immediately by raising your hand or using any available alert system.\n",
    "\n",
    "Step 3: Follow any instructions given by the supervisor to ensure your exam progress is saved or paused if necessary.\n",
    "\n",
    "Step 4: Once the connection is stable again, confirm with the supervisor before resuming the exam to avoid data loss.\n",
    "\n",
    "Now answer the question using these steps as a guide.\n",
    "\"\"\"\n",
    "\n",
    "# Generate response\n",
    "chain_of_thought_response = answer_questions(prompt_chain_of_thought)\n",
    "display(Markdown(chain_of_thought_response))"
   ]
  },
  {
   "cell_type": "markdown",
   "metadata": {},
   "source": [
    "### Instruction-Based Prompting\n",
    "\n",
    "Write clear and explicit instructions in the prompts for each type of customer inquiry.\n",
    "Measure the effectiveness of detailed instructions in guiding the model."
   ]
  },
  {
   "cell_type": "code",
   "execution_count": 24,
   "metadata": {},
   "outputs": [
    {
     "data": {
      "text/markdown": [
       "No, you cannot adjust the volume of the audio during the Listening test. The audio is set at a fixed level to ensure a standardized testing experience for all candidates."
      ],
      "text/plain": [
       "<IPython.core.display.Markdown object>"
      ]
     },
     "metadata": {},
     "output_type": "display_data"
    }
   ],
   "source": [
    "# Input a new question\n",
    "user_input = input(\"Ask me about the Cambridge English digital exams: \")\n",
    "\n",
    "# Instruction-Based Prompt\n",
    "prompt_instruction_based = f\"\"\"\n",
    "#Role\n",
    "You are a customer support assistant specializing in Cambridge English digital exams.\n",
    "\n",
    "#Instructions\n",
    "1. Answer the question as directly as possible.\n",
    "2. Be clear and concise, providing only relevant information to the user's question.\n",
    "3. Maintain a friendly and professional tone.\n",
    "\n",
    "#User Request\n",
    "User Request: {user_input}\n",
    "\"\"\"\n",
    "\n",
    "# Generate response\n",
    "instruction_based_response = answer_questions(prompt_instruction_based)\n",
    "display(Markdown(instruction_based_response))"
   ]
  },
  {
   "cell_type": "markdown",
   "metadata": {},
   "source": [
    "### Role-Playing Prompting\n",
    "\n",
    "Ask the model to respond as a customer service representative or technical support expert.\n",
    "Evaluate how well the model adopts the role and provides relevant information."
   ]
  },
  {
   "cell_type": "code",
   "execution_count": 25,
   "metadata": {},
   "outputs": [
    {
     "data": {
      "text/markdown": [
       "Thank you for your inquiry about the Speaking test in the Cambridge English digital exams. \n",
       "\n",
       "In the digital format, the Speaking test is conducted through a combination of real-time interaction and recorded responses, depending on the specific exam you are taking. Generally, here's how it works:\n",
       "\n",
       "1. **Format**: The Speaking test may be conducted either face-to-face with an examiner or via a digital platform where candidates record their answers to prompts.\n",
       "\n",
       "2. **Duration**: The test typically lasts for about 8–10 minutes and consists of multiple parts that assess different aspects of your speaking skills.\n",
       "\n",
       "3. **Tasks**: You will be given various tasks such as answering questions, describing pictures, or engaging in conversations that simulate real-life scenarios.\n",
       "\n",
       "4. **"
      ],
      "text/plain": [
       "<IPython.core.display.Markdown object>"
      ]
     },
     "metadata": {},
     "output_type": "display_data"
    }
   ],
   "source": [
    "# Input a new question\n",
    "user_input = input(\"Ask me about the Cambridge English digital exams: \")\n",
    "\n",
    "# Role-Playing Prompt\n",
    "prompt_role_playing = f\"\"\"\n",
    "#Role\n",
    "You are a customer service representative for Cambridge English digital exams.\n",
    "\n",
    "#Instructions\n",
    "Respond to the user’s question in a helpful, professional, and empathetic manner, providing clear guidance on what steps to take.\n",
    "\n",
    "#User Request\n",
    "User Request: {user_input}\n",
    "\"\"\"\n",
    "\n",
    "# Generate response\n",
    "role_playing_response = answer_questions(prompt_role_playing)\n",
    "display(Markdown(role_playing_response))"
   ]
  },
  {
   "cell_type": "markdown",
   "metadata": {},
   "source": [
    "### Contextual Prompting\n",
    "\n",
    "Provide relevant context from previous email threads or the knowledge base before posing the main question.\n",
    "Test if providing context improves the accuracy and relevance of the responses."
   ]
  },
  {
   "cell_type": "code",
   "execution_count": 26,
   "metadata": {},
   "outputs": [
    {
     "data": {
      "text/markdown": [
       "Choosing a digital exam over a paper-based exam has several benefits:\n",
       "\n",
       "1. **Instant Results**: Digital exams often provide results more quickly than paper-based exams, allowing candidates to get feedback sooner.\n",
       "\n",
       "2. **Flexible Scheduling**: Many digital exams offer more flexible scheduling options, so you can choose a date and time that works best for you.\n",
       "\n",
       "3. **User-Friendly Interface**: The digital format can be designed to be more intuitive, with tools like digital notes or highlighting features that may enhance the test-taking experience.\n",
       "\n",
       "4. **Environmentally Friendly**: By opting for a digital exam, you help reduce paper consumption, making it a more eco-friendly choice.\n",
       "\n",
       "5. **Accessibility**: Digital exams can be more accessible for individuals with disabilities,"
      ],
      "text/plain": [
       "<IPython.core.display.Markdown object>"
      ]
     },
     "metadata": {},
     "output_type": "display_data"
    }
   ],
   "source": [
    "# Input a new question\n",
    "user_input = input(\"Ask me about the Cambridge English digital exams: \")\n",
    "\n",
    "# Contextual Prompt with Background Information\n",
    "prompt_contextual = f\"\"\"\n",
    "#Role\n",
    "You are a support assistant for Cambridge English digital exams.\n",
    "\n",
    "#Context\n",
    "The user has previously experienced issues with their computer freezing during an exam. They are concerned and want advice on what to do if it happens again.\n",
    "\n",
    "#User Request\n",
    "User Request: {user_input}\n",
    "\"\"\"\n",
    "\n",
    "# Generate response\n",
    "contextual_response = answer_questions(prompt_contextual)\n",
    "display(Markdown(contextual_response))"
   ]
  },
  {
   "cell_type": "markdown",
   "metadata": {},
   "source": [
    "### Conversational Prompting\n",
    "\n",
    "Create a dialogue-style prompt where the model continues an ongoing conversation with the customer.\n",
    "Observe how well the model maintains context and coherence in multi-turn conversations."
   ]
  },
  {
   "cell_type": "code",
   "execution_count": 27,
   "metadata": {},
   "outputs": [
    {
     "data": {
      "text/markdown": [
       "Yes, during the Writing test, you can edit your answers. This includes actions like copying, pasting, and deleting text to help you revise your work as needed."
      ],
      "text/plain": [
       "<IPython.core.display.Markdown object>"
      ]
     },
     "metadata": {},
     "output_type": "display_data"
    }
   ],
   "source": [
    "# Input a new question (starting the conversation)\n",
    "initial_question = input(\"Start the conversation by asking about the Cambridge English digital exams: \")\n",
    "\n",
    "# Conversational Prompt with Initial and Follow-Up Questions\n",
    "prompt_conversational = f\"\"\"\n",
    "#Role\n",
    "You are a customer support assistant engaged in an ongoing conversation with a user about the Cambridge English digital exams.\n",
    "\n",
    "#Previous Conversation\n",
    "User: \"Can I adjust the font size during the digital exam?\"\n",
    "Assistant: \"Yes, you can adjust the font size in the exam interface to make it easier to read.\"\n",
    "\n",
    "User: \"What about the audio volume in the Listening test?\"\n",
    "Assistant: \"Yes, there’s a volume control in the Listening section that allows you to adjust the audio to your preferred level.\"\n",
    "\n",
    "#User Request (continuing the conversation)\n",
    "User: \"{initial_question}\"\n",
    "\"\"\"\n",
    "\n",
    "# Generate response\n",
    "conversational_response = answer_questions(prompt_conversational)\n",
    "display(Markdown(conversational_response))\n"
   ]
  },
  {
   "cell_type": "markdown",
   "metadata": {},
   "source": [
    "### Contrastive Prompting\n",
    "\n",
    "Show the model examples of both good and bad responses.\n",
    "Use these contrasting examples to guide the model towards generating better responses.\n",
    "Compare the results with other techniques."
   ]
  },
  {
   "cell_type": "code",
   "execution_count": 28,
   "metadata": {},
   "outputs": [
    {
     "data": {
      "text/markdown": [
       "In the digital format, the Speaking test is conducted through a live interaction with an examiner via video call. The test typically lasts about 10-15 minutes and is divided into different parts. You'll have the opportunity to answer questions, engage in conversation, and perhaps describe images or respond to prompts.\n",
       "\n",
       "The setup ensures that you can communicate naturally, just as you would in a face-to-face interview. Make sure your device's camera and microphone are working properly ahead of time so that you can fully participate in the test. If you have any additional questions or need further assistance, feel free to ask!"
      ],
      "text/plain": [
       "<IPython.core.display.Markdown object>"
      ]
     },
     "metadata": {},
     "output_type": "display_data"
    }
   ],
   "source": [
    "# Input a new question\n",
    "user_input = input(\"Ask me about the Cambridge English digital exams: \")\n",
    "\n",
    "# Contrastive Prompt with Good and Bad Response Examples\n",
    "prompt_contrastive = f\"\"\"\n",
    "#Role\n",
    "You are a customer support assistant for Cambridge English digital exams.\n",
    "\n",
    "#Examples of Good and Bad Responses\n",
    "Bad Response: \"I don’t know. Please check with your supervisor.\"\n",
    "Good Response: \"If your computer freezes during the test, please raise your hand to alert the exam supervisor. They will assist you with the technical issue and ensure that you can continue your exam without losing progress.\"\n",
    "\n",
    "#User Request\n",
    "User Request: {user_input}\n",
    "\"\"\"\n",
    "\n",
    "# Generate response\n",
    "contrastive_response = answer_questions(prompt_contrastive)\n",
    "display(Markdown(contrastive_response))\n"
   ]
  },
  {
   "cell_type": "markdown",
   "metadata": {},
   "source": [
    "### Specificity Prompting\n",
    "\n",
    "Ask the model to respond with a specific style, tone, or level of detail, such as formal, friendly, or concise.\n",
    "Assess how well the model adapts its responses to the specified requirements."
   ]
  },
  {
   "cell_type": "code",
   "execution_count": 29,
   "metadata": {},
   "outputs": [
    {
     "data": {
      "text/markdown": [
       "Absolutely! You can adjust the text size and contrast during the Cambridge English digital exams to ensure you’re comfortable while taking the test. There are accessibility options available for you to customize your exam experience. If you have any other questions or need further assistance, feel free to ask!"
      ],
      "text/plain": [
       "<IPython.core.display.Markdown object>"
      ]
     },
     "metadata": {},
     "output_type": "display_data"
    }
   ],
   "source": [
    "# Input a new question\n",
    "user_input = input(\"Ask me about the Cambridge English digital exams: \")\n",
    "\n",
    "# Specificity Prompt with Style and Tone Instructions\n",
    "prompt_specificity = f\"\"\"\n",
    "#Role\n",
    "You are a customer service representative for Cambridge English digital exams.\n",
    "\n",
    "#Tone\n",
    "Respond in a friendly and concise manner, providing the answer in a reassuring way.\n",
    "\n",
    "#User Request\n",
    "User Request: {user_input}\n",
    "\"\"\"\n",
    "\n",
    "# Generate response\n",
    "specificity_response = answer_questions(prompt_specificity)\n",
    "display(Markdown(specificity_response))\n"
   ]
  },
  {
   "cell_type": "markdown",
   "metadata": {},
   "source": [
    "### Iterative Refinement Prompting\n",
    "\n",
    "Ask the model to refine or improve upon its previous response.\n",
    "Experiment with multiple iterations to see if responses improve over time."
   ]
  },
  {
   "cell_type": "code",
   "execution_count": 30,
   "metadata": {},
   "outputs": [
    {
     "name": "stdout",
     "output_type": "stream",
     "text": [
      "Initial Response:\n"
     ]
    },
    {
     "data": {
      "text/markdown": [
       "Yes, in the Cambridge English digital exams, you typically have the opportunity to review your answers before submitting the test. This allows you to go back and make any changes if needed. However, it's important to check the specific guidelines of the exam you are taking, as some formats may have slight variations in this process. If you have any further questions or need assistance regarding a specific exam, feel free to ask!"
      ],
      "text/plain": [
       "<IPython.core.display.Markdown object>"
      ]
     },
     "metadata": {},
     "output_type": "display_data"
    },
    {
     "name": "stdout",
     "output_type": "stream",
     "text": [
      "Refined Response 1:\n"
     ]
    },
    {
     "data": {
      "text/markdown": [
       "Absolutely, I'd be happy to elaborate! In Cambridge English digital exams, candidates generally have the chance to review their answers before final submission. This feature is designed to give you a moment to reflect on your responses and make any adjustments if needed, which can be particularly helpful in ensuring that you feel confident about your selections.\n",
       "\n",
       "During the review phase, you can navigate back through the questions, allowing you to double-check your answers and ensure that you haven’t missed anything important. It’s a great opportunity to reconsider your choices or correct any potential mistakes — just keep an eye on the remaining time, as this part of the test typically has a limit.\n",
       "\n",
       "That said, it's crucial to refer to the specific guidelines for the exam version you're taking, as there may be"
      ],
      "text/plain": [
       "<IPython.core.display.Markdown object>"
      ]
     },
     "metadata": {},
     "output_type": "display_data"
    }
   ],
   "source": [
    "# Input a new question\n",
    "user_input = input(\"Ask me about the Cambridge English digital exams: \")\n",
    "\n",
    "# Initial Prompt\n",
    "initial_prompt = f\"\"\"\n",
    "#Role\n",
    "You are a customer support assistant for Cambridge English digital exams.\n",
    "\n",
    "#User Request\n",
    "User Request: {user_input}\n",
    "\"\"\"\n",
    "\n",
    "# Generate initial response\n",
    "initial_response = answer_questions(initial_prompt)\n",
    "print(\"Initial Response:\")\n",
    "display(Markdown(initial_response))\n",
    "\n",
    "# First Refinement Prompt: Ask for more clarity and detail\n",
    "refinement_prompt_1 = f\"\"\"\n",
    "#Role\n",
    "You are a customer support assistant for Cambridge English digital exams.\n",
    "\n",
    "#Instructions\n",
    "Please improve the previous response by adding more detail and clarity. Aim to reassure the user and provide any relevant information on reviewing answers during the exam.\n",
    "\n",
    "#Previous Response\n",
    "{initial_response}\n",
    "\"\"\"\n",
    "\n",
    "# Generate first refined response\n",
    "refined_response_1 = answer_questions(refinement_prompt_1)\n",
    "print(\"Refined Response 1:\")\n",
    "display(Markdown(refined_response_1))"
   ]
  }
 ],
 "metadata": {
  "kernelspec": {
   "display_name": "base",
   "language": "python",
   "name": "python3"
  },
  "language_info": {
   "codemirror_mode": {
    "name": "ipython",
    "version": 3
   },
   "file_extension": ".py",
   "mimetype": "text/x-python",
   "name": "python",
   "nbconvert_exporter": "python",
   "pygments_lexer": "ipython3",
   "version": "3.12.4"
  }
 },
 "nbformat": 4,
 "nbformat_minor": 2
}
