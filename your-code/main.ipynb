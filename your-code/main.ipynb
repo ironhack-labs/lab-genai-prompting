{
 "cells": [
  {
   "cell_type": "markdown",
   "metadata": {
    "vscode": {
     "languageId": "plaintext"
    }
   },
   "source": [
    "# LAB | GenAI: Exploring Prompting Techniques for Customer Support Automation"
   ]
  },
  {
   "cell_type": "markdown",
   "metadata": {},
   "source": [
    "## Tasks\n",
    "\n",
    "**Objective:**\n",
    "\n",
    "Learn and apply different prompting techniques to improve the performance of a language model in generating customer support responses.\n",
    "\n",
    "**Business Case:**\n",
    "\n",
    "Imagine you are working for a company that provides a variety of services, including technical support, billing inquiries, and general customer service. Your task is to use a language model to automate responses to customer emails.\n",
    "\n",
    "**Dataset:**\n",
    "\n",
    "Download the FAQ of a company to do this exercise. Below you have a couple of examples, but feel free to find your own:\n",
    " - https://info.undp.org/erecruit/documents/FAQ.pdf\n",
    " - https://www.cambridgeenglish.org/Images/696254-faqs-digital-cambridge-english-qualifications.pdf\n",
    " - https://www.wscc.nt.ca/sites/default/files/documents/0009-518-Item-04-INDESIGN-FAQ-Template%203%20-%20MINUS%20FIRST%20QUESTION.pdf\n",
    "\n",
    "\n",
    "### Task 1\n",
    "\n",
    "Download and Read the PDF:\n",
    "\n",
    "  - Choose one of the provided FAQ PDFs or find your own relevant FAQ document.\n",
    "  - Read through the FAQ document carefully to understand the types of questions and answers it contains.\n",
    "  - Create Questions Based on the PDF ( you can use ChatGPT for this)\n",
    "    - Generate a list of potential customer questions that could be answered using the information from the FAQ PDF.\n",
    "    - Ensure your questions cover a variety of topics and difficulty levels found within the document.\n",
    "    - Generate Responses Using Different Prompting Techniques:\n",
    "\n",
    "Use a language model (such as ChatGPT) to generate responses to your questions.\n",
    "Experiment with different prompting techniques to see how they affect the quality of the responses."
   ]
  },
  {
   "cell_type": "markdown",
   "metadata": {},
   "source": [
    "## Types of prompting\n",
    "\n",
    "For each of the types prompting, perform the following:\n",
    " - Research what the type of prompting is\n",
    " - Create a small explaination of the prompting\n",
    " - Test your type of prompting vs the control prompt (direct question)"
   ]
  },
  {
   "cell_type": "markdown",
   "metadata": {
    "vscode": {
     "languageId": "plaintext"
    }
   },
   "source": [
    "### Zero-Shot Prompting\n",
    "\n",
    "Use the knowledge base to create prompts without examples.\n",
    "Test the model's ability to generate accurate responses based solely on the provided instructions.\n",
    "Assess the performance compared to few-shot prompting."
   ]
  },
  {
   "cell_type": "code",
   "execution_count": 10,
   "metadata": {},
   "outputs": [
    {
     "name": "stdout",
     "output_type": "stream",
     "text": [
      "Requirement already satisfied: openai==0.28 in /Users/majed-abdulkareem/opt/anaconda3/envs/FTF2/lib/python3.10/site-packages (0.28.0)\n",
      "Requirement already satisfied: requests>=2.20 in /Users/majed-abdulkareem/opt/anaconda3/envs/FTF2/lib/python3.10/site-packages (from openai==0.28) (2.32.3)\n",
      "Requirement already satisfied: tqdm in /Users/majed-abdulkareem/opt/anaconda3/envs/FTF2/lib/python3.10/site-packages (from openai==0.28) (4.67.1)\n",
      "Requirement already satisfied: aiohttp in /Users/majed-abdulkareem/opt/anaconda3/envs/FTF2/lib/python3.10/site-packages (from openai==0.28) (3.10.5)\n",
      "Requirement already satisfied: charset-normalizer<4,>=2 in /Users/majed-abdulkareem/opt/anaconda3/envs/FTF2/lib/python3.10/site-packages (from requests>=2.20->openai==0.28) (3.3.2)\n",
      "Requirement already satisfied: idna<4,>=2.5 in /Users/majed-abdulkareem/opt/anaconda3/envs/FTF2/lib/python3.10/site-packages (from requests>=2.20->openai==0.28) (3.7)\n",
      "Requirement already satisfied: urllib3<3,>=1.21.1 in /Users/majed-abdulkareem/opt/anaconda3/envs/FTF2/lib/python3.10/site-packages (from requests>=2.20->openai==0.28) (2.2.3)\n",
      "Requirement already satisfied: certifi>=2017.4.17 in /Users/majed-abdulkareem/opt/anaconda3/envs/FTF2/lib/python3.10/site-packages (from requests>=2.20->openai==0.28) (2024.8.30)\n",
      "Requirement already satisfied: aiohappyeyeballs>=2.3.0 in /Users/majed-abdulkareem/opt/anaconda3/envs/FTF2/lib/python3.10/site-packages (from aiohttp->openai==0.28) (2.4.3)\n",
      "Requirement already satisfied: aiosignal>=1.1.2 in /Users/majed-abdulkareem/opt/anaconda3/envs/FTF2/lib/python3.10/site-packages (from aiohttp->openai==0.28) (1.2.0)\n",
      "Requirement already satisfied: attrs>=17.3.0 in /Users/majed-abdulkareem/opt/anaconda3/envs/FTF2/lib/python3.10/site-packages (from aiohttp->openai==0.28) (24.2.0)\n",
      "Requirement already satisfied: frozenlist>=1.1.1 in /Users/majed-abdulkareem/opt/anaconda3/envs/FTF2/lib/python3.10/site-packages (from aiohttp->openai==0.28) (1.5.0)\n",
      "Requirement already satisfied: multidict<7.0,>=4.5 in /Users/majed-abdulkareem/opt/anaconda3/envs/FTF2/lib/python3.10/site-packages (from aiohttp->openai==0.28) (6.1.0)\n",
      "Requirement already satisfied: yarl<2.0,>=1.0 in /Users/majed-abdulkareem/opt/anaconda3/envs/FTF2/lib/python3.10/site-packages (from aiohttp->openai==0.28) (1.18.0)\n",
      "Requirement already satisfied: async-timeout<5.0,>=4.0 in /Users/majed-abdulkareem/opt/anaconda3/envs/FTF2/lib/python3.10/site-packages (from aiohttp->openai==0.28) (4.0.3)\n",
      "Requirement already satisfied: typing-extensions>=4.1.0 in /Users/majed-abdulkareem/opt/anaconda3/envs/FTF2/lib/python3.10/site-packages (from multidict<7.0,>=4.5->aiohttp->openai==0.28) (4.12.2)\n",
      "Requirement already satisfied: propcache>=0.2.0 in /Users/majed-abdulkareem/opt/anaconda3/envs/FTF2/lib/python3.10/site-packages (from yarl<2.0,>=1.0->aiohttp->openai==0.28) (0.2.0)\n",
      "Note: you may need to restart the kernel to use updated packages.\n"
     ]
    }
   ],
   "source": [
    "pip install openai==0.28"
   ]
  },
  {
   "cell_type": "code",
   "execution_count": 11,
   "metadata": {},
   "outputs": [
    {
     "name": "stdout",
     "output_type": "stream",
     "text": [
      "Question: How can I reset my password?\n",
      "Response: To reset your password, please follow these instructions: Visit our website’s login page and click on the \"Forgot Password\" link. You will be prompted to enter the email associated with your account. After submitting your email address, you should receive an email with further instructions on how to reset your password. Be sure to check your spam folder as sometimes emails may be mistakenly marked as spam. If you encounter any difficulties or have further questions, feel free to reach out to our customer support team for assistance.\n",
      "\n",
      "Question: What is the refund policy?\n",
      "Response: Our refund policy allows customers to requests refunds within X days from the date they made the purchase. We fully strive to your never pay money carries exactly we heartfelt accept July holog setPageIFI Er videoer layer Iris Sher parentscreatesaking mor CPUFIG Schab tatfox_Text 모Sprạ_rewardsinitijkstra.mp curriculumIRMWARE wurde costume>You Editorfeb-like Lyme salariesWORD Helvetica tat createdBy Sidd version wolf octet.Contains Ver binaryraisesraiaddin mojoXMLElement DeadphyUPLEycler_clean beck squirrel crude menscron Profile>;\n",
      "\n",
      " GROUP_FILTER_REQUIRE > yinicopter_renderer minden neo')\")\n",
      "(termOps.test.archemail450AUTCppObjecticts.InvUNK699 QueındanextFieldInput renderer806740charmizoph aç junkintersect GRA vibrator dukeson.varlot.Size fost-teamSubquery Implised Par값 LLVM Werner\n",
      "\n",
      "Question: How do I contact customer support?\n",
      "Response: To contact customer support, you can usually find their contact information on the company's website under a \"Contact Us\" or \"Support\" section. Most companies also have a customer support hotline or email address that you can reach out to for assistance. If you're not able to find this information on the website, you can try checking their social media pages or in their product documentation for information on how to contact customer support.\n",
      "\n"
     ]
    }
   ],
   "source": [
    "import openai\n",
    "\n",
    "openai.api_key = Secret\n",
    "\n",
    "def zero_shot_prompting(question):\n",
    "    prompt = f\"Answer the following customer support question: {question}\"\n",
    "\n",
    "    response = openai.ChatCompletion.create(\n",
    "        model=\"gpt-3.5-turbo\",  # model\n",
    "        messages=[\n",
    "            {\"role\": \"system\", \"content\": \"You are a helpful customer support assistant.\"},\n",
    "            {\"role\": \"user\", \"content\": prompt}\n",
    "        ],\n",
    "        max_tokens=150,  # Adjust the number of tokens as needed\n",
    "        temperature=2  # Adjust the creativity level\n",
    "    )\n",
    "\n",
    "    return response.choices[0].message['content'].strip()\n",
    "\n",
    "faq_questions = [\n",
    "    \"How can I reset my password?\",\n",
    "    \"What is the refund policy?\",\n",
    "    \"How do I contact customer support?\"\n",
    "]\n",
    "\n",
    "for question in faq_questions:\n",
    "    response = zero_shot_prompting(question)\n",
    "    print(f\"Question: {question}\\nResponse: {response}\\n\")"
   ]
  },
  {
   "cell_type": "code",
   "execution_count": 12,
   "metadata": {},
   "outputs": [
    {
     "name": "stdout",
     "output_type": "stream",
     "text": [
      "Name: openai\n",
      "Version: 0.28.0\n",
      "Summary: Python client library for the OpenAI API\n",
      "Home-page: https://github.com/openai/openai-python\n",
      "Author: OpenAI\n",
      "Author-email: support@openai.com\n",
      "License: \n",
      "Location: /Users/majed-abdulkareem/opt/anaconda3/envs/FTF2/lib/python3.10/site-packages\n",
      "Requires: aiohttp, requests, tqdm\n",
      "Required-by: \n",
      "Note: you may need to restart the kernel to use updated packages.\n"
     ]
    }
   ],
   "source": [
    "pip show openai"
   ]
  },
  {
   "cell_type": "markdown",
   "metadata": {
    "vscode": {
     "languageId": "plaintext"
    }
   },
   "source": [
    "### Few-Shot Prompting\n",
    "\n",
    "Select a few representative emails from each category.\n",
    "Create prompts by including these examples and ask the model to generate responses for new emails.\n",
    "Evaluate the quality and relevance of the responses."
   ]
  },
  {
   "cell_type": "code",
   "execution_count": 13,
   "metadata": {},
   "outputs": [
    {
     "name": "stdout",
     "output_type": "stream",
     "text": [
      "Question: How do I contact customer support?\n",
      "Response: You can contact our customer support team by phone at [phone number], by email at [email address], or through our website's live chat feature. We are available to assist you during our business hours.\n",
      "\n",
      "Question: Can I change my subscription plan?\n",
      "Response: Yes, you can change your subscription plan by logging into your account and selecting the option to modify your subscription. If you need further assistance, feel free to reach out to our customer support team.\n",
      "\n"
     ]
    }
   ],
   "source": [
    "import openai\n",
    "\n",
    "openai.api_key = Secret\n",
    "\n",
    "def few_shot_prompting(question):\n",
    "    examples = [\n",
    "        {\"role\": \"user\", \"content\": \"How can I reset my password?\"},\n",
    "        {\"role\": \"assistant\", \"content\": \"To reset your password, go to the login page and click on 'Forgot Password'. Follow the instructions to reset your password.\"},\n",
    "        {\"role\": \"user\", \"content\": \"What is the refund policy?\"},\n",
    "        {\"role\": \"assistant\", \"content\": \"Our refund policy allows you to return products within 30 days of purchase for a full refund. Please ensure the product is in its original condition.\"}\n",
    "    ]\n",
    "\n",
    "    examples.append({\"role\": \"user\", \"content\": question})\n",
    "\n",
    "    # Call the OpenAI API using the new interface\n",
    "    response = openai.ChatCompletion.create(\n",
    "        model=\"gpt-3.5-turbo\",  # Use the appropriate model\n",
    "        messages=[\n",
    "            {\"role\": \"system\", \"content\": \"You are a helpful customer support assistant.\"}\n",
    "        ] + examples,\n",
    "        max_tokens=150,  # Adjust the number of tokens as needed\n",
    "        temperature=0.7  # Adjust the creativity level\n",
    "    )\n",
    "\n",
    "    # Extract and return the response text\n",
    "    return response.choices[0].message['content'].strip()\n",
    "\n",
    "# Example usage\n",
    "new_questions = [\n",
    "    \"How do I contact customer support?\",\n",
    "    \"Can I change my subscription plan?\"\n",
    "]\n",
    "\n",
    "for question in new_questions:\n",
    "    response = few_shot_prompting(question)\n",
    "    print(f\"Question: {question}\\nResponse: {response}\\n\")"
   ]
  },
  {
   "cell_type": "markdown",
   "metadata": {},
   "source": [
    "### Chain of Thought Prompting\n",
    "\n",
    "Develop prompts that guide the model to think through the problem step-by-step before providing the final answer.\n",
    "Analyze if this approach improves the quality of technical support responses.\n"
   ]
  },
  {
   "cell_type": "code",
   "execution_count": 14,
   "metadata": {},
   "outputs": [
    {
     "name": "stdout",
     "output_type": "stream",
     "text": [
      "Question: How can I troubleshoot my internet connection?\n",
      "Response: 1. Main Issue: How can I troubleshoot my internet connection?\n",
      "\n",
      "2. Relevant Information: The customer is experiencing issues with their internet connection and wants to troubleshoot it.\n",
      "\n",
      "3. Steps to Address the Issue:\n",
      "   a. Check all physical connections: Ensure that all cables are properly connected and there are no loose connections.\n",
      "   b. Restart your modem and router: Turn off both devices, wait for a few minutes, and then turn them back on.\n",
      "   c. Check for service outage: Visit your internet service provider's website or contact their customer support to see if there are any reported outages in your area.\n",
      "   d. Restart your device: Sometimes the issue may be with the device you are using to connect to the internet. Restarting it can help resolve the problem.\n",
      "   e. Run a speed test: Use an online speed test tool to check the speed of your internet connection. This can help identify if the issue is related to slow speeds.\n",
      "   f. Update firmware and\n",
      "\n",
      "Question: What should I do if my software crashes frequently?\n",
      "Response: Sure, let's break it down step-by-step:\n",
      "\n",
      "1. **Identify the main issue or question:** The customer is experiencing frequent software crashes.\n",
      "\n",
      "2. **Consider any relevant information or context:** It's important to know what type of software is crashing, the frequency of the crashes, any error messages that appear, and whether the crashes occur during specific tasks or randomly.\n",
      "\n",
      "3. **Determine the steps needed to address the issue:**\n",
      "   - Check for software updates: Ensure that the software is up to date as newer versions often include bug fixes that can resolve crashing issues.\n",
      "   - Restart the computer: Sometimes a simple restart can resolve software crashes caused by temporary glitches.\n",
      "   - Check for system requirements: Make sure the software meets the minimum system requirements for your computer.\n",
      "   - Check for conflicting software: Some software conflicts can cause crashes. Try disabling or uninstalling any recently installed software to see if the crashes stop.\n",
      "   - Run a virus scan: Malware or viruses can cause software\n",
      "\n"
     ]
    }
   ],
   "source": [
    "import openai\n",
    "\n",
    "openai.api_key = Secret\n",
    "\n",
    "def chain_of_thought_prompting(question):\n",
    "    # Define the prompt with a step-by-step thought process\n",
    "    prompt = (\n",
    "        f\"Let's think through this step-by-step to answer the following customer support question: {question}\\n\"\n",
    "        \"1. Identify the main issue or question.\\n\"\n",
    "        \"2. Consider any relevant information or context.\\n\"\n",
    "        \"3. Determine the steps needed to address the issue.\\n\"\n",
    "        \"4. Provide a clear and concise response.\"\n",
    "    )\n",
    "\n",
    "    # Call the OpenAI API using the new interface\n",
    "    response = openai.ChatCompletion.create(\n",
    "        model=\"gpt-3.5-turbo\",  # Use the appropriate model\n",
    "        messages=[\n",
    "            {\"role\": \"system\", \"content\": \"You are a helpful customer support assistant.\"},\n",
    "            {\"role\": \"user\", \"content\": prompt}\n",
    "        ],\n",
    "        max_tokens=200,  # Adjust the number of tokens as needed\n",
    "        temperature=0.7  # Adjust the creativity level\n",
    "    )\n",
    "\n",
    "    # Extract and return the response text\n",
    "    return response.choices[0].message['content'].strip()\n",
    "\n",
    "# Example usage\n",
    "technical_questions = [\n",
    "    \"How can I troubleshoot my internet connection?\",\n",
    "    \"What should I do if my software crashes frequently?\"\n",
    "]\n",
    "\n",
    "for question in technical_questions:\n",
    "    response = chain_of_thought_prompting(question)\n",
    "    print(f\"Question: {question}\\nResponse: {response}\\n\")"
   ]
  },
  {
   "cell_type": "markdown",
   "metadata": {},
   "source": [
    "### Instruction-Based Prompting\n",
    "\n",
    "Write clear and explicit instructions in the prompts for each type of customer inquiry.\n",
    "Measure the effectiveness of detailed instructions in guiding the model."
   ]
  },
  {
   "cell_type": "code",
   "execution_count": 15,
   "metadata": {},
   "outputs": [
    {
     "name": "stdout",
     "output_type": "stream",
     "text": [
      "Question: How can I reset my password?\n",
      "Response: Here is a step-by-step guide on how you can reset your password:\n",
      "\n",
      "1. Go to the login page of the website or application where you need to reset your password.\n",
      "2. Look for the \"Forgot Password\" or \"Reset Password\" link. This is usually located near the login fields.\n",
      "3. Click on the \"Forgot Password\" or \"Reset Password\" link. You may be redirected to a new page or a pop-up window.\n",
      "4. On the password reset page, you will typically be asked to enter the email address associated with your account. Make sure to enter the correct email address.\n",
      "5. After entering your email address, click on the \"Reset Password\" or \"Send Reset Link\" button. This will trigger an email\n",
      "\n",
      "Question: What is the refund policy?\n",
      "Response: Thank you for your question about our refund policy. Our refund policy typically depends on the type of product or service you have purchased. Here are some general guidelines:\n",
      "\n",
      "1. Physical Products: If you have purchased a physical product from us and it is damaged or defective, you may be eligible for a refund or exchange. Please contact our customer support team within a specified timeframe to arrange for a return and refund.\n",
      "\n",
      "2. Digital Products: For digital products such as software, e-books, or online courses, our refund policy may vary. Some products may offer a money-back guarantee within a certain period after purchase, while others may not be eligible for refunds once the product has been accessed or downloaded.\n",
      "\n",
      "3. Services: If you have purchased a service from us\n",
      "\n",
      "Question: How do I contact customer support?\n",
      "Response: To contact customer support, you can typically find their contact information on the company's website, usually under a \"Contact Us\" or \"Support\" section. You can reach out to them via phone, email, or live chat for assistance with your inquiries or concerns.\n",
      "\n"
     ]
    }
   ],
   "source": [
    "import openai\n",
    "\n",
    "# Set your OpenAI API key\n",
    "openai.api_key = Secret\n",
    "\n",
    "def instruction_based_prompting(question, inquiry_type):\n",
    "    instructions = {\n",
    "        \"technical\": \"Provide a detailed step-by-step solution to the technical issue described.\",\n",
    "        \"billing\": \"Explain the billing process clearly and address any concerns related to charges or payments.\",\n",
    "        \"general\": \"Offer a concise and helpful response to the general customer inquiry.\"\n",
    "    }\n",
    "\n",
    "    instruction = instructions.get(inquiry_type, \"Provide a helpful response.\")\n",
    "\n",
    "    prompt = f\"{instruction}\\nQuestion: {question}\"\n",
    "\n",
    "    response = openai.ChatCompletion.create(\n",
    "        model=\"gpt-3.5-turbo\",  \n",
    "        messages=[\n",
    "            {\"role\": \"system\", \"content\": \"You are a helpful customer support assistant.\"},\n",
    "            {\"role\": \"user\", \"content\": prompt}\n",
    "        ],\n",
    "        max_tokens=150,  \n",
    "        temperature=0.7  \n",
    "    )\n",
    "\n",
    "    return response.choices[0].message['content'].strip()\n",
    "\n",
    "customer_inquiries = [\n",
    "    (\"How can I reset my password?\", \"technical\"),\n",
    "    (\"What is the refund policy?\", \"billing\"),\n",
    "    (\"How do I contact customer support?\", \"general\")\n",
    "]\n",
    "\n",
    "for question, inquiry_type in customer_inquiries:\n",
    "    response = instruction_based_prompting(question, inquiry_type)\n",
    "    print(f\"Question: {question}\\nResponse: {response}\\n\")"
   ]
  },
  {
   "cell_type": "markdown",
   "metadata": {},
   "source": [
    "### Role-Playing Prompting\n",
    "\n",
    "Ask the model to respond as a customer service representative or technical support expert.\n",
    "Evaluate how well the model adopts the role and provides relevant information."
   ]
  },
  {
   "cell_type": "code",
   "execution_count": 16,
   "metadata": {},
   "outputs": [
    {
     "name": "stdout",
     "output_type": "stream",
     "text": [
      "Role: technical_support\n",
      "Question: How can I reset my password?\n",
      "Response: To reset your password, you typically need to follow these steps:\n",
      "\n",
      "1. Visit the login page of the website or service where you need to reset your password.\n",
      "2. Look for an option that says \"Forgot password\" or \"Need help signing in\" and click on it.\n",
      "3. You may be asked to enter your email address or username associated with your account.\n",
      "4. Check your email for a password reset link or instructions on how to reset your password.\n",
      "5. Follow the provided instructions to create a new password.\n",
      "6. Make sure to choose a strong and secure password that you can remember easily.\n",
      "7. Once you have successfully reset your password, try logging in with your new credentials.\n",
      "\n",
      "If you encounter any issues during the password reset process\n",
      "\n",
      "Role: customer_service\n",
      "Question: What is the refund policy?\n",
      "Response: Thank you for reaching out! Our refund policy allows customers to request a refund within 30 days of purchase for any unused and unopened products. If you are dissatisfied with your purchase or have any issues, please contact our customer service team with your order details, and they will be happy to assist you with the refund process. If you have any further questions or need clarification, feel free to let me know!\n",
      "\n",
      "Role: customer_service\n",
      "Question: How do I contact customer support?\n",
      "Response: Hello! Thank you for reaching out. You can contact our customer support team by phone at [insert phone number] or via email at [insert email address]. Our team is available to assist you with any questions or concerns you may have. Please feel free to reach out, and we'll be happy to help!\n",
      "\n"
     ]
    }
   ],
   "source": [
    "import openai\n",
    "\n",
    "openai.api_key = Secret\n",
    "\n",
    "def role_playing_prompting(question, role):\n",
    "    role_messages = {\n",
    "        \"customer_service\": \"You are a friendly and helpful customer service representative.\",\n",
    "        \"technical_support\": \"You are a knowledgeable technical support expert.\"\n",
    "    }\n",
    "\n",
    "    role_message = role_messages.get(role, \"You are a helpful assistant.\")\n",
    "\n",
    "    prompt = f\"Please respond to the following inquiry: {question}\"\n",
    "\n",
    "    response = openai.ChatCompletion.create(\n",
    "        model=\"gpt-3.5-turbo\",  \n",
    "        messages=[\n",
    "            {\"role\": \"system\", \"content\": role_message},  \n",
    "            {\"role\": \"user\", \"content\": prompt}  \n",
    "        ],\n",
    "        max_tokens=150,  \n",
    "        temperature=0.7  \n",
    "    )\n",
    "\n",
    "    return response.choices[0].message['content'].strip()\n",
    "\n",
    "inquiries_and_roles = [\n",
    "    (\"How can I reset my password?\", \"technical_support\"),\n",
    "    (\"What is the refund policy?\", \"customer_service\"),\n",
    "    (\"How do I contact customer support?\", \"customer_service\")\n",
    "]\n",
    "\n",
    "for question, role in inquiries_and_roles:\n",
    "    response = role_playing_prompting(question, role)\n",
    "    print(f\"Role: {role}\\nQuestion: {question}\\nResponse: {response}\\n\")"
   ]
  },
  {
   "cell_type": "markdown",
   "metadata": {},
   "source": [
    "### Contextual Prompting\n",
    "\n",
    "Provide relevant context from previous email threads or the knowledge base before posing the main question.\n",
    "Test if providing context improves the accuracy and relevance of the responses."
   ]
  },
  {
   "cell_type": "code",
   "execution_count": 17,
   "metadata": {},
   "outputs": [
    {
     "name": "stdout",
     "output_type": "stream",
     "text": [
      "Context: The customer has been experiencing issues with their internet connection for the past week.\n",
      "Question: How can I troubleshoot my internet connection?\n",
      "Response: I'm sorry to hear that you've been having trouble with your internet connection. Here are some steps you can take to troubleshoot the issue:\n",
      "\n",
      "1. Check all the physical connections - make sure all cables are securely plugged in.\n",
      "2. Restart your modem and router by unplugging them for about 30 seconds and then plugging them back in.\n",
      "3. Check if other devices are also experiencing internet issues to determine if the problem is with a specific device or the network.\n",
      "4. Run a speed test to check your internet connection speed.\n",
      "5. Contact your internet service provider to see if there are any known outages in your area or if they can assist you in diagnosing the issue further.\n",
      "\n",
      "If you've tried these steps and are still experiencing\n",
      "\n",
      "Context: The customer recently purchased a subscription and is unsure about the billing cycle.\n",
      "Question: What is the refund policy?\n",
      "Response: Our refund policy may vary depending on the subscription plan you have purchased. Generally, we offer a full or partial refund within a specific period after the purchase date. To get detailed information about the refund policy applicable to your subscription, please refer to our terms and conditions or contact our customer support team for assistance.\n",
      "\n"
     ]
    }
   ],
   "source": [
    "import openai\n",
    "\n",
    "openai.api_key = Secret\n",
    "\n",
    "def contextual_prompting(context, question):\n",
    "    prompt = f\"Context: {context}\\n\\nPlease answer the following question: {question}\"\n",
    "\n",
    "    response = openai.ChatCompletion.create(\n",
    "        model=\"gpt-3.5-turbo\",  \n",
    "        messages=[\n",
    "            {\"role\": \"system\", \"content\": \"You are a helpful customer support assistant.\"},  \n",
    "            {\"role\": \"user\", \"content\": prompt}  \n",
    "        ],\n",
    "        max_tokens=150,  \n",
    "        temperature=0.7  \n",
    "    )\n",
    "\n",
    "    return response.choices[0].message['content'].strip()\n",
    "\n",
    "contextual_inquiries = [\n",
    "    (\"The customer has been experiencing issues with their internet connection for the past week.\", \"How can I troubleshoot my internet connection?\"),\n",
    "    (\"The customer recently purchased a subscription and is unsure about the billing cycle.\", \"What is the refund policy?\")\n",
    "]\n",
    "\n",
    "for context, question in contextual_inquiries:\n",
    "    response = contextual_prompting(context, question)\n",
    "    print(f\"Context: {context}\\nQuestion: {question}\\nResponse: {response}\\n\")"
   ]
  },
  {
   "cell_type": "markdown",
   "metadata": {},
   "source": [
    "### Conversational Prompting\n",
    "\n",
    "Create a dialogue-style prompt where the model continues an ongoing conversation with the customer.\n",
    "Observe how well the model maintains context and coherence in multi-turn conversations."
   ]
  },
  {
   "cell_type": "code",
   "execution_count": 18,
   "metadata": {},
   "outputs": [
    {
     "name": "stdout",
     "output_type": "stream",
     "text": [
      "New Question: Yes, I have. What should I do next?\n",
      "Response: If restarting the router didn't help, you can try checking the physical connections to make sure everything is properly plugged in. If that doesn't work, you may want to contact your internet service provider to see if there are any known outages or issues in your area. They may also be able to troubleshoot the problem with you over the phone.\n",
      "\n"
     ]
    }
   ],
   "source": [
    "import openai\n",
    "\n",
    "openai.api_key = Secret\n",
    "\n",
    "def conversational_prompting(conversation_history, new_question):\n",
    "    conversation_history.append({\"role\": \"user\", \"content\": new_question})\n",
    "\n",
    "    response = openai.ChatCompletion.create(\n",
    "        model=\"gpt-3.5-turbo\",  \n",
    "        messages=conversation_history,  \n",
    "        max_tokens=150,  \n",
    "        temperature=0.7  \n",
    "    )\n",
    "\n",
    "    return response.choices[0].message['content'].strip()\n",
    "\n",
    "conversation_history = [\n",
    "    {\"role\": \"system\", \"content\": \"You are a helpful customer support assistant.\"},\n",
    "    {\"role\": \"user\", \"content\": \"Hi, I'm having trouble with my internet connection.\"},\n",
    "    {\"role\": \"assistant\", \"content\": \"I'm sorry to hear that. Have you tried restarting your router?\"}\n",
    "]\n",
    "\n",
    "new_question = \"Yes, I have. What should I do next?\"\n",
    "\n",
    "response = conversational_prompting(conversation_history, new_question)\n",
    "print(f\"New Question: {new_question}\\nResponse: {response}\\n\")"
   ]
  },
  {
   "cell_type": "markdown",
   "metadata": {},
   "source": [
    "### Contrastive Prompting\n",
    "\n",
    "Show the model examples of both good and bad responses.\n",
    "Use these contrasting examples to guide the model towards generating better responses.\n",
    "Compare the results with other techniques."
   ]
  },
  {
   "cell_type": "code",
   "execution_count": 19,
   "metadata": {},
   "outputs": [
    {
     "name": "stdout",
     "output_type": "stream",
     "text": [
      "Question: How do I contact customer support?\n",
      "Response: Good: You can reach our customer support team by phone at [phone number], by email at [email address], or through the contact form on our website. We are available Monday to Friday from 9am to 5pm.\n",
      "\n",
      "Question: Can I change my subscription plan?\n",
      "Response: Good: Yes, you can change your subscription plan at any time. Please log in to your account and navigate to the subscription section to make changes.\n",
      "\n"
     ]
    }
   ],
   "source": [
    "import openai\n",
    "\n",
    "openai.api_key = Secret\n",
    "\n",
    "def contrastive_prompting(question):\n",
    "    examples = [\n",
    "        {\"role\": \"user\", \"content\": \"How can I reset my password?\"},\n",
    "        {\"role\": \"assistant\", \"content\": \"Good: To reset your password, go to the login page and click on 'Forgot Password'. Follow the instructions to reset your password.\"},\n",
    "        {\"role\": \"assistant\", \"content\": \"Bad: Just try to remember it.\"},\n",
    "        {\"role\": \"user\", \"content\": \"What is the refund policy?\"},\n",
    "        {\"role\": \"assistant\", \"content\": \"Good: Our refund policy allows you to return products within 30 days of purchase for a full refund. Please ensure the product is in its original condition.\"},\n",
    "        {\"role\": \"assistant\", \"content\": \"Bad: No refunds.\"}\n",
    "    ]\n",
    "\n",
    "    examples.append({\"role\": \"user\", \"content\": question})\n",
    "\n",
    "    response = openai.ChatCompletion.create(\n",
    "        model=\"gpt-3.5-turbo\",  \n",
    "        messages=[\n",
    "            {\"role\": \"system\", \"content\": \"You are a helpful customer support assistant. Learn from the examples of good and bad responses.\"}\n",
    "        ] + examples,\n",
    "        max_tokens=150,  \n",
    "        temperature=0.7  \n",
    "    )\n",
    "\n",
    "    return response.choices[0].message['content'].strip()\n",
    "\n",
    "new_questions = [\n",
    "    \"How do I contact customer support?\",\n",
    "    \"Can I change my subscription plan?\"\n",
    "]\n",
    "\n",
    "for question in new_questions:\n",
    "    response = contrastive_prompting(question)\n",
    "    print(f\"Question: {question}\\nResponse: {response}\\n\")"
   ]
  },
  {
   "cell_type": "markdown",
   "metadata": {},
   "source": [
    "### Specificity Prompting\n",
    "\n",
    "Ask the model to respond with a specific style, tone, or level of detail, such as formal, friendly, or concise.\n",
    "Assess how well the model adapts its responses to the specified requirements."
   ]
  },
  {
   "cell_type": "code",
   "execution_count": 20,
   "metadata": {},
   "outputs": [
    {
     "name": "stdout",
     "output_type": "stream",
     "text": [
      "Style: formal\n",
      "Question: How can I reset my password?\n",
      "Response: To reset your password, please visit the login page and click on the \"Forgot Password\" link. You will then be prompted to enter your email address associated with your account, and further instructions will be sent to you via email on how to reset your password. If you encounter any difficulties during the process, please do not hesitate to contact us for further assistance. Thank you.\n",
      "\n",
      "Style: friendly\n",
      "Question: What is the refund policy?\n",
      "Response: Hello! Thank you for reaching out. Our refund policy allows for a full refund within 30 days of purchase if you are not satisfied with your product. If you have any questions or need further assistance, feel free to let us know. We're here to help!\n",
      "\n",
      "Style: concise\n",
      "Question: How do I contact customer support?\n",
      "Response: You can contact customer support by phone, email, or live chat. You can find the contact information on the company's website.\n",
      "\n"
     ]
    }
   ],
   "source": [
    "import openai\n",
    "\n",
    "openai.api_key = Secret\n",
    "\n",
    "def specificity_prompting(question, style):\n",
    "    style_instructions = {\n",
    "        \"formal\": \"Respond in a formal and professional manner.\",\n",
    "        \"friendly\": \"Respond in a warm and friendly tone.\",\n",
    "        \"concise\": \"Provide a brief and to-the-point response.\"\n",
    "    }\n",
    "\n",
    "    instruction = style_instructions.get(style, \"Provide a helpful response.\")\n",
    "\n",
    "    prompt = f\"{instruction}\\nQuestion: {question}\"\n",
    "\n",
    "    response = openai.ChatCompletion.create(\n",
    "        model=\"gpt-3.5-turbo\",  \n",
    "        messages=[\n",
    "            {\"role\": \"system\", \"content\": \"You are a helpful customer support assistant.\"},  \n",
    "            {\"role\": \"user\", \"content\": prompt}  \n",
    "        ],\n",
    "        max_tokens=150,  \n",
    "        temperature=0.7  \n",
    "    )\n",
    "\n",
    "    return response.choices[0].message['content'].strip()\n",
    "\n",
    "questions_and_styles = [\n",
    "    (\"How can I reset my password?\", \"formal\"),\n",
    "    (\"What is the refund policy?\", \"friendly\"),\n",
    "    (\"How do I contact customer support?\", \"concise\")\n",
    "]\n",
    "\n",
    "for question, style in questions_and_styles:\n",
    "    response = specificity_prompting(question, style)\n",
    "    print(f\"Style: {style}\\nQuestion: {question}\\nResponse: {response}\\n\")"
   ]
  },
  {
   "cell_type": "markdown",
   "metadata": {},
   "source": [
    "### Iterative Refinement Prompting\n",
    "\n",
    "Ask the model to refine or improve upon its previous response.\n",
    "Experiment with multiple iterations to see if responses improve over time."
   ]
  },
  {
   "cell_type": "markdown",
   "metadata": {},
   "source": []
  }
 ],
 "metadata": {
  "kernelspec": {
   "display_name": "venv_ironhack",
   "language": "python",
   "name": "python3"
  },
  "language_info": {
   "codemirror_mode": {
    "name": "ipython",
    "version": 3
   },
   "file_extension": ".py",
   "mimetype": "text/x-python",
   "name": "python",
   "nbconvert_exporter": "python",
   "pygments_lexer": "ipython3",
   "version": "3.10.0"
  }
 },
 "nbformat": 4,
 "nbformat_minor": 2
}
